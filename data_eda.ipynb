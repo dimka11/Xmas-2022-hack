{
 "cells": [
  {
   "cell_type": "code",
   "execution_count": 17,
   "metadata": {},
   "outputs": [],
   "source": [
    "import pandas as pd\n",
    "import numpy as np\n",
    "import os\n",
    "import json \n",
    "import matplotlib.pyplot as plt\n",
    "import seaborn as sns"
   ]
  },
  {
   "cell_type": "code",
   "execution_count": 210,
   "metadata": {},
   "outputs": [
    {
     "data": {
      "text/plain": [
       "'B:\\\\Code\\\\PycharmProjects\\\\XMasHack2022\\\\MainProject'"
      ]
     },
     "execution_count": 210,
     "metadata": {},
     "output_type": "execute_result"
    }
   ],
   "source": [
    "os.getcwd()"
   ]
  },
  {
   "cell_type": "code",
   "execution_count": 121,
   "metadata": {},
   "outputs": [
    {
     "data": {
      "text/plain": [
       "<Figure size 864x432 with 0 Axes>"
      ]
     },
     "execution_count": 121,
     "metadata": {},
     "output_type": "execute_result"
    },
    {
     "data": {
      "text/plain": [
       "<Figure size 864x432 with 0 Axes>"
      ]
     },
     "metadata": {},
     "output_type": "display_data"
    }
   ],
   "source": [
    "plt.figure(figsize=(12, 6))"
   ]
  },
  {
   "cell_type": "code",
   "execution_count": 25,
   "metadata": {},
   "outputs": [],
   "source": [
    "shares = pd.read_csv(\"../data/2022_12-15.csv\")"
   ]
  },
  {
   "cell_type": "code",
   "execution_count": 20,
   "metadata": {},
   "outputs": [
    {
     "name": "stdout",
     "output_type": "stream",
     "text": [
      "<class 'pandas.core.frame.DataFrame'>\n",
      "RangeIndex: 13038475 entries, 0 to 13038474\n",
      "Data columns (total 13 columns):\n",
      " #   Column    Dtype  \n",
      "---  ------    -----  \n",
      " 0   market    int64  \n",
      " 1   code      object \n",
      " 2   name      object \n",
      " 3   decp      int64  \n",
      " 4   child     int64  \n",
      " 5   id        int64  \n",
      " 6   per       int64  \n",
      " 7   datetime  int64  \n",
      " 8   open      float64\n",
      " 9   high      float64\n",
      " 10  low       float64\n",
      " 11  close     float64\n",
      " 12  vol       int64  \n",
      "dtypes: float64(4), int64(7), object(2)\n",
      "memory usage: 1.3+ GB\n"
     ]
    }
   ],
   "source": [
    "shares.info()"
   ]
  },
  {
   "cell_type": "code",
   "execution_count": 26,
   "metadata": {},
   "outputs": [
    {
     "data": {
      "text/html": [
       "<div>\n",
       "<style scoped>\n",
       "    .dataframe tbody tr th:only-of-type {\n",
       "        vertical-align: middle;\n",
       "    }\n",
       "\n",
       "    .dataframe tbody tr th {\n",
       "        vertical-align: top;\n",
       "    }\n",
       "\n",
       "    .dataframe thead th {\n",
       "        text-align: right;\n",
       "    }\n",
       "</style>\n",
       "<table border=\"1\" class=\"dataframe\">\n",
       "  <thead>\n",
       "    <tr style=\"text-align: right;\">\n",
       "      <th></th>\n",
       "      <th>market</th>\n",
       "      <th>code</th>\n",
       "      <th>name</th>\n",
       "      <th>decp</th>\n",
       "      <th>child</th>\n",
       "      <th>id</th>\n",
       "      <th>per</th>\n",
       "      <th>datetime</th>\n",
       "      <th>open</th>\n",
       "      <th>high</th>\n",
       "      <th>low</th>\n",
       "      <th>close</th>\n",
       "      <th>vol</th>\n",
       "    </tr>\n",
       "  </thead>\n",
       "  <tbody>\n",
       "    <tr>\n",
       "      <th>0</th>\n",
       "      <td>1</td>\n",
       "      <td>MSNG</td>\n",
       "      <td>+МосЭнерго</td>\n",
       "      <td>4</td>\n",
       "      <td>1</td>\n",
       "      <td>6</td>\n",
       "      <td>1</td>\n",
       "      <td>20220401100000</td>\n",
       "      <td>1.8015</td>\n",
       "      <td>1.8250</td>\n",
       "      <td>1.8000</td>\n",
       "      <td>1.8250</td>\n",
       "      <td>145000</td>\n",
       "    </tr>\n",
       "    <tr>\n",
       "      <th>1</th>\n",
       "      <td>1</td>\n",
       "      <td>MSNG</td>\n",
       "      <td>+МосЭнерго</td>\n",
       "      <td>4</td>\n",
       "      <td>1</td>\n",
       "      <td>6</td>\n",
       "      <td>1</td>\n",
       "      <td>20220401100100</td>\n",
       "      <td>1.8250</td>\n",
       "      <td>1.8250</td>\n",
       "      <td>1.8250</td>\n",
       "      <td>1.8250</td>\n",
       "      <td>1000</td>\n",
       "    </tr>\n",
       "    <tr>\n",
       "      <th>2</th>\n",
       "      <td>1</td>\n",
       "      <td>MSNG</td>\n",
       "      <td>+МосЭнерго</td>\n",
       "      <td>4</td>\n",
       "      <td>1</td>\n",
       "      <td>6</td>\n",
       "      <td>1</td>\n",
       "      <td>20220401100200</td>\n",
       "      <td>1.8250</td>\n",
       "      <td>1.8250</td>\n",
       "      <td>1.8200</td>\n",
       "      <td>1.8250</td>\n",
       "      <td>21000</td>\n",
       "    </tr>\n",
       "    <tr>\n",
       "      <th>3</th>\n",
       "      <td>1</td>\n",
       "      <td>MSNG</td>\n",
       "      <td>+МосЭнерго</td>\n",
       "      <td>4</td>\n",
       "      <td>1</td>\n",
       "      <td>6</td>\n",
       "      <td>1</td>\n",
       "      <td>20220401100300</td>\n",
       "      <td>1.8270</td>\n",
       "      <td>1.8590</td>\n",
       "      <td>1.8270</td>\n",
       "      <td>1.8590</td>\n",
       "      <td>38000</td>\n",
       "    </tr>\n",
       "    <tr>\n",
       "      <th>4</th>\n",
       "      <td>1</td>\n",
       "      <td>MSNG</td>\n",
       "      <td>+МосЭнерго</td>\n",
       "      <td>4</td>\n",
       "      <td>1</td>\n",
       "      <td>6</td>\n",
       "      <td>1</td>\n",
       "      <td>20220401100400</td>\n",
       "      <td>1.8400</td>\n",
       "      <td>1.8595</td>\n",
       "      <td>1.8205</td>\n",
       "      <td>1.8585</td>\n",
       "      <td>40000</td>\n",
       "    </tr>\n",
       "  </tbody>\n",
       "</table>\n",
       "</div>"
      ],
      "text/plain": [
       "   market  code        name  decp  child  id  per        datetime    open  \\\n",
       "0       1  MSNG  +МосЭнерго     4      1   6    1  20220401100000  1.8015   \n",
       "1       1  MSNG  +МосЭнерго     4      1   6    1  20220401100100  1.8250   \n",
       "2       1  MSNG  +МосЭнерго     4      1   6    1  20220401100200  1.8250   \n",
       "3       1  MSNG  +МосЭнерго     4      1   6    1  20220401100300  1.8270   \n",
       "4       1  MSNG  +МосЭнерго     4      1   6    1  20220401100400  1.8400   \n",
       "\n",
       "     high     low   close     vol  \n",
       "0  1.8250  1.8000  1.8250  145000  \n",
       "1  1.8250  1.8250  1.8250    1000  \n",
       "2  1.8250  1.8200  1.8250   21000  \n",
       "3  1.8590  1.8270  1.8590   38000  \n",
       "4  1.8595  1.8205  1.8585   40000  "
      ]
     },
     "execution_count": 26,
     "metadata": {},
     "output_type": "execute_result"
    }
   ],
   "source": [
    "shares.head()"
   ]
  },
  {
   "cell_type": "code",
   "execution_count": 27,
   "metadata": {},
   "outputs": [],
   "source": [
    "shares = shares[(shares.market == 1) | (shares.market == 200)]"
   ]
  },
  {
   "cell_type": "code",
   "execution_count": 28,
   "metadata": {},
   "outputs": [
    {
     "name": "stdout",
     "output_type": "stream",
     "text": [
      "<class 'pandas.core.frame.DataFrame'>\n",
      "Int64Index: 11507283 entries, 0 to 13034483\n",
      "Data columns (total 13 columns):\n",
      " #   Column    Dtype  \n",
      "---  ------    -----  \n",
      " 0   market    int64  \n",
      " 1   code      object \n",
      " 2   name      object \n",
      " 3   decp      int64  \n",
      " 4   child     int64  \n",
      " 5   id        int64  \n",
      " 6   per       int64  \n",
      " 7   datetime  int64  \n",
      " 8   open      float64\n",
      " 9   high      float64\n",
      " 10  low       float64\n",
      " 11  close     float64\n",
      " 12  vol       int64  \n",
      "dtypes: float64(4), int64(7), object(2)\n",
      "memory usage: 1.2+ GB\n"
     ]
    }
   ],
   "source": [
    "shares.info()"
   ]
  },
  {
   "cell_type": "code",
   "execution_count": 24,
   "metadata": {},
   "outputs": [
    {
     "data": {
      "text/plain": [
       "array(['MSNG', 'POLY', 'LIFE', 'ALRS', 'ABRD', 'AVAN', 'AKRN', 'APTK',\n",
       "       'ASSB', 'AMEZ', 'AFLT', 'BSPB', 'BISVP', 'BANE', 'BANEP', 'BLNG',\n",
       "       'BELU', 'BRZL', 'VSMO', 'VTBR', 'VLHZ', 'VJGZ', 'VJGZP', 'VGSB',\n",
       "       'VGSBP', 'VSYD', 'VSYDP', 'GAZA', 'GAZAP', 'GAZP', 'GRNT', 'GMKN',\n",
       "       'SIBN', 'FESH', 'DASB', 'DSKY', 'EELT', 'ZVEZ', 'RUSI', 'IRKT',\n",
       "       'IGSTP', 'IGST', 'IRAO', 'KMAZ', 'KMEZ', 'KTSB', 'KTSBP', 'KLSB',\n",
       "       'KCHE', 'KCHEP', 'TGKD', 'TGKDP', 'KOGK', 'KROTP', 'KROT', 'KRSB',\n",
       "       'KRSBP', 'KUBE', 'KUZB', 'KAZT', 'KAZTP', 'LSRG', 'LKOH', 'LNZL',\n",
       "       'LNTA', 'LSNGP', 'LSNG', 'LNZLP', 'LPSB', 'MVID', 'MGTSP', 'MGTS',\n",
       "       'CBOM', 'MAGN', 'MSRS', 'MRKZ', 'MRKK', 'MRKU', 'MRKP', 'MRKC',\n",
       "       'MRKV', 'MRKS', 'MRKY', 'MTSS', 'MAGE', 'MGNT', 'MFGS', 'MFGSP',\n",
       "       'ODVA', 'MTLR', 'MRSB', 'MTLRP', 'MOEX', 'MSTT', 'NKNC', 'NKNCP',\n",
       "       'NKHP', 'NLMK', 'NMTP', 'NKSH', 'NVTK', 'UCSS', 'OGKB', 'OMZZP',\n",
       "       'KZOS', 'KZOSP', 'PIKK', 'PAZA', 'PMSBP', 'PMSB', 'PLZL', 'PRMB',\n",
       "       'RBCM', 'RGSS', 'CHGZ', 'ROST', 'RASP', 'ROSB', 'ROSN', 'RSTI',\n",
       "       'RSTIP', 'RTKM', 'RTKMP', 'AQUA', 'HYDR', 'RUGR', 'ROLO', 'RNFT',\n",
       "       'RZSB', 'SFIN', 'MGNZ', 'SVAV', 'SAGOP', 'KRKNP', 'SARE', 'SAREP',\n",
       "       'SLEN', 'SBER', 'SBERP', 'CHMF', 'SELG', 'SIBG', 'AFKS', 'JNOSP',\n",
       "       'JNOS', 'STSB', 'STSBP', 'SNGS', 'SNGSP', 'TGKB', 'TGKBP', 'KRKOP',\n",
       "       'TGKN', 'TGKA', 'TRMK', 'VRSB', 'MISB', 'NNSB', 'NNSBP', 'RTSB',\n",
       "       'RTSBP', 'YRSB', 'TORS', 'TORSP', 'TASB', 'TASBP', 'TATN', 'TATNP',\n",
       "       'CNTLP', 'CNTL', 'TTLK', 'TRNFP', 'URKZ', 'USBN', 'FEES', 'PHOR',\n",
       "       'HIMCP', 'WTCM', 'WTCMP', 'PRFN', 'CHKZ', 'CHMK', 'GCHE', 'ELTZ',\n",
       "       'ENRU', 'RKKE', 'UTAR', 'UKUZ', 'UPRO', 'YAKG', 'YKENP', 'YKEN'],\n",
       "      dtype=object)"
      ]
     },
     "execution_count": 24,
     "metadata": {},
     "output_type": "execute_result"
    }
   ],
   "source": [
    "shares['code'].unique()"
   ]
  },
  {
   "cell_type": "code",
   "execution_count": 25,
   "metadata": {},
   "outputs": [
    {
     "data": {
      "text/plain": [
       "192"
      ]
     },
     "execution_count": 25,
     "metadata": {},
     "output_type": "execute_result"
    }
   ],
   "source": [
    "len(shares['code'].unique())"
   ]
  },
  {
   "cell_type": "code",
   "execution_count": 26,
   "metadata": {},
   "outputs": [
    {
     "data": {
      "text/plain": [
       "array(['+МосЭнерго', 'Polymetal', 'iФармсинтз', 'АЛРОСА ао', 'АбрауДюрсо',\n",
       "       'Авангрд-ао', 'Акрон', 'Аптеки36и6', 'АстрЭнСб', 'АшинскийМЗ',\n",
       "       'Аэрофлот', 'БСП ао', 'БашИнСв ап', 'Башнефт ао', 'Башнефт ап',\n",
       "       'Белон ао', 'Белуга ао', 'БурЗолото', 'ВСМПО-АВСМ', 'ВТБ ао',\n",
       "       'ВХЗ-ао', 'Варьеган', 'Варьеган-п', 'ВолгЭнСб', 'ВолгЭнСб-п',\n",
       "       'ВыбСудЗ ао', 'ВыбСудЗ ап', 'ГАЗ ао', 'ГАЗ ап', 'ГАЗПРОМ ао',\n",
       "       'ГИТ ао', 'ГМКНорНик', 'Газпрнефть', 'ДВМП ао', 'ДагСб ао',\n",
       "       'ДетскийМир', 'ЕвроЭлтех', 'ЗВЕЗДА ао', 'ИКРУСС-ИНВ', 'ИРКУТ-3',\n",
       "       'Ижсталь ап', 'Ижсталь2ао', 'ИнтерРАОао', 'КАМАЗ', 'КМЗ', 'КСБ ао',\n",
       "       'КСБ ап', 'КалужскСК', 'КамчатЭ ао', 'КамчатЭ ап', 'Квадра',\n",
       "       'Квадра-п', 'КоршГОК ао', 'КрасОкт-1п', 'КрасОкт-ао', 'Красэсб ао',\n",
       "       'Красэсб ап', 'Кубанэнр', 'КузнецкийБ', 'Куйбазот', 'Куйбазот-п',\n",
       "       'ЛСР ао', 'ЛУКОЙЛ', 'Лензолото', 'Лента др', 'Ленэнерг-п',\n",
       "       'Ленэнерго', 'Лензол. ап', 'ЛЭСК ао', 'М.видео', 'МГТС-4ап',\n",
       "       'МГТС-5ао', 'МКБ ао', 'ММК', 'МОЭСК', 'МРСК СЗ', 'МРСК СК',\n",
       "       'МРСК Ур', 'МРСК ЦП', 'МРСК Центр', 'МРСКВол', 'МРСКСиб',\n",
       "       'МРСКЮга ао', 'МТС-ао', 'МагадЭн ао', 'Магнит ао', 'Мегион-ао',\n",
       "       'Мегион-ап', 'Медиахолд', 'Мечел ао', 'МордЭнСб', 'Мечел ап',\n",
       "       'МосБиржа', 'Мостотрест', 'НКНХ ао', 'НКНХ ап', 'НКХП ао',\n",
       "       'НЛМК ао', 'НМТП ао', 'Нижкамшина', 'Новатэк ао', 'ОКС ао',\n",
       "       'ОГК-2 ао', 'ОМЗ-ап', 'ОргСинт ао', 'ОргСинт ап', 'ПИК ао',\n",
       "       'ПавлАвт ао', 'ПермьЭнС-п', 'ПермьЭнСб', 'Полюс', 'Приморье',\n",
       "       'РБК ао', 'РГС СК ао', 'РН-ЗапСиб', 'РОСИНТЕРао', 'Распадская',\n",
       "       'Росбанк ао', 'Роснефть', 'Россети ао', 'Россети ап', 'Ростел -ао',\n",
       "       'Ростел -ап', 'РусАква ао', 'РусГидро', 'Русгрэйн', 'Русолово',\n",
       "       'РуссНфт ао', 'РязЭнСб', 'САФМАР ао', 'СМЗ-ао', 'СОЛЛЕРС',\n",
       "       'СамарЭн-ап', 'СаратНПЗ-п', 'СаратЭн-ао', 'СаратЭн-ап',\n",
       "       'Сахэнер ао', 'Сбербанк', 'Сбербанк-п', 'СевСт-ао', 'Селигдар',\n",
       "       'СибГост ао', 'Система ао', 'Слав-ЯНОСп', 'Славн-ЯНОС',\n",
       "       'СтаврЭнСб', 'СтаврЭнСбп', 'Сургнфгз', 'Сургнфгз-п', 'ТГК-2',\n",
       "       'ТГК-2 ап', 'ТКЗКК ап', 'ТГК-14', 'ТГК-1', 'ТМК ао', 'ТНСэнВорон',\n",
       "       'ТНСэнМарЭл', 'ТНСэнНН ао', 'ТНСэнНН ап', 'ТНСэнРст', 'ТНСэнРст-п',\n",
       "       'ТНСэнЯр', 'ТРК ао', 'ТРК ап', 'ТамбЭнСб', 'ТамбЭнСб-п',\n",
       "       'Татнфт 3ао', 'Татнфт 3ап', 'Телеграф-п', 'Телеграф', 'Таттел. ао',\n",
       "       'Транснф ап', 'УрКузница', 'УралСиб ао', 'ФСК ЕЭС ао',\n",
       "       'ФосАгро ао', 'Химпром ап', 'ЦМТ ао', 'ЦМТ ап', 'ЧЗПСН ао',\n",
       "       'ЧКПЗ ао', 'ЧМК ао', 'ЧеркизГ-ао', 'Электрцинк', 'ЭнелРос ао',\n",
       "       'ЭнергияРКК', 'ЮТэйр ао', 'ЮжКузб. ао', 'Юнипро ао', 'ЯТЭК ао',\n",
       "       'Якутскэн-п', 'Якутскэнрг'], dtype=object)"
      ]
     },
     "execution_count": 26,
     "metadata": {},
     "output_type": "execute_result"
    }
   ],
   "source": [
    "shares['name'].unique()"
   ]
  },
  {
   "cell_type": "code",
   "execution_count": 27,
   "metadata": {},
   "outputs": [
    {
     "data": {
      "text/plain": [
       "0           4\n",
       "1           4\n",
       "2           4\n",
       "3           4\n",
       "4           4\n",
       "           ..\n",
       "13034479    4\n",
       "13034480    4\n",
       "13034481    4\n",
       "13034482    4\n",
       "13034483    4\n",
       "Name: decp, Length: 11507283, dtype: int64"
      ]
     },
     "execution_count": 27,
     "metadata": {},
     "output_type": "execute_result"
    }
   ],
   "source": [
    "shares['decp'] #"
   ]
  },
  {
   "cell_type": "code",
   "execution_count": 29,
   "metadata": {},
   "outputs": [],
   "source": [
    "# remove cols\n",
    "remove_cols = ['decp', 'child', 'id', 'per', 'open', 'high', 'low', 'market']\n",
    "shares = shares.drop(columns = remove_cols)\n",
    "# downcast\n",
    "# shares['vol'] = pd.to_numeric(shares['vol'], downcast='integer')\n",
    "shares['close'] = pd.to_numeric(shares['close'], downcast='float')\n",
    "# convert datetime\n",
    "shares['datetime'] = pd.to_datetime(shares['datetime'], format='%Y%m%d%H%M%S')"
   ]
  },
  {
   "cell_type": "code",
   "execution_count": 30,
   "metadata": {},
   "outputs": [
    {
     "data": {
      "text/html": [
       "<div>\n",
       "<style scoped>\n",
       "    .dataframe tbody tr th:only-of-type {\n",
       "        vertical-align: middle;\n",
       "    }\n",
       "\n",
       "    .dataframe tbody tr th {\n",
       "        vertical-align: top;\n",
       "    }\n",
       "\n",
       "    .dataframe thead th {\n",
       "        text-align: right;\n",
       "    }\n",
       "</style>\n",
       "<table border=\"1\" class=\"dataframe\">\n",
       "  <thead>\n",
       "    <tr style=\"text-align: right;\">\n",
       "      <th></th>\n",
       "      <th>code</th>\n",
       "      <th>name</th>\n",
       "      <th>datetime</th>\n",
       "      <th>close</th>\n",
       "      <th>vol</th>\n",
       "    </tr>\n",
       "  </thead>\n",
       "  <tbody>\n",
       "    <tr>\n",
       "      <th>0</th>\n",
       "      <td>MSNG</td>\n",
       "      <td>+МосЭнерго</td>\n",
       "      <td>2022-04-01 10:00:00</td>\n",
       "      <td>1.8250</td>\n",
       "      <td>145000</td>\n",
       "    </tr>\n",
       "    <tr>\n",
       "      <th>1</th>\n",
       "      <td>MSNG</td>\n",
       "      <td>+МосЭнерго</td>\n",
       "      <td>2022-04-01 10:01:00</td>\n",
       "      <td>1.8250</td>\n",
       "      <td>1000</td>\n",
       "    </tr>\n",
       "    <tr>\n",
       "      <th>2</th>\n",
       "      <td>MSNG</td>\n",
       "      <td>+МосЭнерго</td>\n",
       "      <td>2022-04-01 10:02:00</td>\n",
       "      <td>1.8250</td>\n",
       "      <td>21000</td>\n",
       "    </tr>\n",
       "    <tr>\n",
       "      <th>3</th>\n",
       "      <td>MSNG</td>\n",
       "      <td>+МосЭнерго</td>\n",
       "      <td>2022-04-01 10:03:00</td>\n",
       "      <td>1.8590</td>\n",
       "      <td>38000</td>\n",
       "    </tr>\n",
       "    <tr>\n",
       "      <th>4</th>\n",
       "      <td>MSNG</td>\n",
       "      <td>+МосЭнерго</td>\n",
       "      <td>2022-04-01 10:04:00</td>\n",
       "      <td>1.8585</td>\n",
       "      <td>40000</td>\n",
       "    </tr>\n",
       "  </tbody>\n",
       "</table>\n",
       "</div>"
      ],
      "text/plain": [
       "   code        name            datetime   close     vol\n",
       "0  MSNG  +МосЭнерго 2022-04-01 10:00:00  1.8250  145000\n",
       "1  MSNG  +МосЭнерго 2022-04-01 10:01:00  1.8250    1000\n",
       "2  MSNG  +МосЭнерго 2022-04-01 10:02:00  1.8250   21000\n",
       "3  MSNG  +МосЭнерго 2022-04-01 10:03:00  1.8590   38000\n",
       "4  MSNG  +МосЭнерго 2022-04-01 10:04:00  1.8585   40000"
      ]
     },
     "execution_count": 30,
     "metadata": {},
     "output_type": "execute_result"
    }
   ],
   "source": [
    "shares.head(5)"
   ]
  },
  {
   "cell_type": "code",
   "execution_count": 62,
   "metadata": {},
   "outputs": [
    {
     "data": {
      "text/html": [
       "<div>\n",
       "<style scoped>\n",
       "    .dataframe tbody tr th:only-of-type {\n",
       "        vertical-align: middle;\n",
       "    }\n",
       "\n",
       "    .dataframe tbody tr th {\n",
       "        vertical-align: top;\n",
       "    }\n",
       "\n",
       "    .dataframe thead th {\n",
       "        text-align: right;\n",
       "    }\n",
       "</style>\n",
       "<table border=\"1\" class=\"dataframe\">\n",
       "  <thead>\n",
       "    <tr style=\"text-align: right;\">\n",
       "      <th></th>\n",
       "      <th>code</th>\n",
       "      <th>name</th>\n",
       "      <th>datetime</th>\n",
       "      <th>close</th>\n",
       "      <th>vol</th>\n",
       "    </tr>\n",
       "  </thead>\n",
       "  <tbody>\n",
       "    <tr>\n",
       "      <th>13034479</th>\n",
       "      <td>YKEN</td>\n",
       "      <td>Якутскэнрг</td>\n",
       "      <td>2022-12-14 11:45:00</td>\n",
       "      <td>0.2625</td>\n",
       "      <td>20000</td>\n",
       "    </tr>\n",
       "    <tr>\n",
       "      <th>13034480</th>\n",
       "      <td>YKEN</td>\n",
       "      <td>Якутскэнрг</td>\n",
       "      <td>2022-12-14 17:33:00</td>\n",
       "      <td>0.2620</td>\n",
       "      <td>20000</td>\n",
       "    </tr>\n",
       "    <tr>\n",
       "      <th>13034481</th>\n",
       "      <td>YKEN</td>\n",
       "      <td>Якутскэнрг</td>\n",
       "      <td>2022-12-15 10:01:00</td>\n",
       "      <td>0.2610</td>\n",
       "      <td>20000</td>\n",
       "    </tr>\n",
       "    <tr>\n",
       "      <th>13034482</th>\n",
       "      <td>YKEN</td>\n",
       "      <td>Якутскэнрг</td>\n",
       "      <td>2022-12-15 10:26:00</td>\n",
       "      <td>0.2600</td>\n",
       "      <td>10000</td>\n",
       "    </tr>\n",
       "    <tr>\n",
       "      <th>13034483</th>\n",
       "      <td>YKEN</td>\n",
       "      <td>Якутскэнрг</td>\n",
       "      <td>2022-12-15 16:06:00</td>\n",
       "      <td>0.2600</td>\n",
       "      <td>20000</td>\n",
       "    </tr>\n",
       "  </tbody>\n",
       "</table>\n",
       "</div>"
      ],
      "text/plain": [
       "          code        name            datetime   close    vol\n",
       "13034479  YKEN  Якутскэнрг 2022-12-14 11:45:00  0.2625  20000\n",
       "13034480  YKEN  Якутскэнрг 2022-12-14 17:33:00  0.2620  20000\n",
       "13034481  YKEN  Якутскэнрг 2022-12-15 10:01:00  0.2610  20000\n",
       "13034482  YKEN  Якутскэнрг 2022-12-15 10:26:00  0.2600  10000\n",
       "13034483  YKEN  Якутскэнрг 2022-12-15 16:06:00  0.2600  20000"
      ]
     },
     "execution_count": 62,
     "metadata": {},
     "output_type": "execute_result"
    }
   ],
   "source": [
    "shares.tail(5)"
   ]
  },
  {
   "cell_type": "code",
   "execution_count": 69,
   "metadata": {},
   "outputs": [],
   "source": [
    "shares_lm = shares[shares['datetime'] >= '2022-11-14 10:00:00'] # last month"
   ]
  },
  {
   "cell_type": "code",
   "execution_count": 93,
   "metadata": {},
   "outputs": [
    {
     "data": {
      "text/html": [
       "<div>\n",
       "<style scoped>\n",
       "    .dataframe tbody tr th:only-of-type {\n",
       "        vertical-align: middle;\n",
       "    }\n",
       "\n",
       "    .dataframe tbody tr th {\n",
       "        vertical-align: top;\n",
       "    }\n",
       "\n",
       "    .dataframe thead th {\n",
       "        text-align: right;\n",
       "    }\n",
       "</style>\n",
       "<table border=\"1\" class=\"dataframe\">\n",
       "  <thead>\n",
       "    <tr style=\"text-align: right;\">\n",
       "      <th></th>\n",
       "      <th>code</th>\n",
       "      <th>name</th>\n",
       "      <th>datetime</th>\n",
       "      <th>close</th>\n",
       "      <th>vol</th>\n",
       "    </tr>\n",
       "  </thead>\n",
       "  <tbody>\n",
       "    <tr>\n",
       "      <th>48229</th>\n",
       "      <td>MSNG</td>\n",
       "      <td>+МосЭнерго</td>\n",
       "      <td>2022-11-14 10:01:00</td>\n",
       "      <td>1.7940</td>\n",
       "      <td>151000</td>\n",
       "    </tr>\n",
       "    <tr>\n",
       "      <th>48230</th>\n",
       "      <td>MSNG</td>\n",
       "      <td>+МосЭнерго</td>\n",
       "      <td>2022-11-14 10:02:00</td>\n",
       "      <td>1.7940</td>\n",
       "      <td>11000</td>\n",
       "    </tr>\n",
       "    <tr>\n",
       "      <th>48231</th>\n",
       "      <td>MSNG</td>\n",
       "      <td>+МосЭнерго</td>\n",
       "      <td>2022-11-14 10:03:00</td>\n",
       "      <td>1.8000</td>\n",
       "      <td>48000</td>\n",
       "    </tr>\n",
       "    <tr>\n",
       "      <th>48232</th>\n",
       "      <td>MSNG</td>\n",
       "      <td>+МосЭнерго</td>\n",
       "      <td>2022-11-14 10:04:00</td>\n",
       "      <td>1.8035</td>\n",
       "      <td>5000</td>\n",
       "    </tr>\n",
       "    <tr>\n",
       "      <th>48233</th>\n",
       "      <td>MSNG</td>\n",
       "      <td>+МосЭнерго</td>\n",
       "      <td>2022-11-14 10:05:00</td>\n",
       "      <td>1.8175</td>\n",
       "      <td>142000</td>\n",
       "    </tr>\n",
       "    <tr>\n",
       "      <th>...</th>\n",
       "      <td>...</td>\n",
       "      <td>...</td>\n",
       "      <td>...</td>\n",
       "      <td>...</td>\n",
       "      <td>...</td>\n",
       "    </tr>\n",
       "    <tr>\n",
       "      <th>13034479</th>\n",
       "      <td>YKEN</td>\n",
       "      <td>Якутскэнрг</td>\n",
       "      <td>2022-12-14 11:45:00</td>\n",
       "      <td>0.2625</td>\n",
       "      <td>20000</td>\n",
       "    </tr>\n",
       "    <tr>\n",
       "      <th>13034480</th>\n",
       "      <td>YKEN</td>\n",
       "      <td>Якутскэнрг</td>\n",
       "      <td>2022-12-14 17:33:00</td>\n",
       "      <td>0.2620</td>\n",
       "      <td>20000</td>\n",
       "    </tr>\n",
       "    <tr>\n",
       "      <th>13034481</th>\n",
       "      <td>YKEN</td>\n",
       "      <td>Якутскэнрг</td>\n",
       "      <td>2022-12-15 10:01:00</td>\n",
       "      <td>0.2610</td>\n",
       "      <td>20000</td>\n",
       "    </tr>\n",
       "    <tr>\n",
       "      <th>13034482</th>\n",
       "      <td>YKEN</td>\n",
       "      <td>Якутскэнрг</td>\n",
       "      <td>2022-12-15 10:26:00</td>\n",
       "      <td>0.2600</td>\n",
       "      <td>10000</td>\n",
       "    </tr>\n",
       "    <tr>\n",
       "      <th>13034483</th>\n",
       "      <td>YKEN</td>\n",
       "      <td>Якутскэнрг</td>\n",
       "      <td>2022-12-15 16:06:00</td>\n",
       "      <td>0.2600</td>\n",
       "      <td>20000</td>\n",
       "    </tr>\n",
       "  </tbody>\n",
       "</table>\n",
       "<p>1665557 rows × 5 columns</p>\n",
       "</div>"
      ],
      "text/plain": [
       "          code        name            datetime   close     vol\n",
       "48229     MSNG  +МосЭнерго 2022-11-14 10:01:00  1.7940  151000\n",
       "48230     MSNG  +МосЭнерго 2022-11-14 10:02:00  1.7940   11000\n",
       "48231     MSNG  +МосЭнерго 2022-11-14 10:03:00  1.8000   48000\n",
       "48232     MSNG  +МосЭнерго 2022-11-14 10:04:00  1.8035    5000\n",
       "48233     MSNG  +МосЭнерго 2022-11-14 10:05:00  1.8175  142000\n",
       "...        ...         ...                 ...     ...     ...\n",
       "13034479  YKEN  Якутскэнрг 2022-12-14 11:45:00  0.2625   20000\n",
       "13034480  YKEN  Якутскэнрг 2022-12-14 17:33:00  0.2620   20000\n",
       "13034481  YKEN  Якутскэнрг 2022-12-15 10:01:00  0.2610   20000\n",
       "13034482  YKEN  Якутскэнрг 2022-12-15 10:26:00  0.2600   10000\n",
       "13034483  YKEN  Якутскэнрг 2022-12-15 16:06:00  0.2600   20000\n",
       "\n",
       "[1665557 rows x 5 columns]"
      ]
     },
     "execution_count": 93,
     "metadata": {},
     "output_type": "execute_result"
    }
   ],
   "source": [
    "shares_lm"
   ]
  },
  {
   "cell_type": "code",
   "execution_count": 94,
   "metadata": {},
   "outputs": [
    {
     "name": "stdout",
     "output_type": "stream",
     "text": [
      "<class 'pandas.core.frame.DataFrame'>\n",
      "Int64Index: 1665557 entries, 48229 to 13034483\n",
      "Data columns (total 5 columns):\n",
      " #   Column    Non-Null Count    Dtype         \n",
      "---  ------    --------------    -----         \n",
      " 0   code      1665557 non-null  object        \n",
      " 1   name      1665557 non-null  object        \n",
      " 2   datetime  1665557 non-null  datetime64[ns]\n",
      " 3   close     1665557 non-null  float32       \n",
      " 4   vol       1665557 non-null  int64         \n",
      "dtypes: datetime64[ns](1), float32(1), int64(1), object(2)\n",
      "memory usage: 69.9+ MB\n"
     ]
    }
   ],
   "source": [
    "shares_lm.info()"
   ]
  },
  {
   "cell_type": "code",
   "execution_count": 18,
   "metadata": {},
   "outputs": [],
   "source": [
    "# shares_lm.to_csv('../MainProject/data/shares_lm.csv', index = False)\n",
    "shares_lm = pd.read_csv('../MainProject/data/shares_lm.csv')"
   ]
  },
  {
   "cell_type": "code",
   "execution_count": 89,
   "metadata": {},
   "outputs": [],
   "source": [
    "def to_json(file_path, b):\n",
    "    \n",
    "    with open(file_path, 'w+') as f:\n",
    "        json.dump(b, f, \n",
    "                  separators=(',', ':'), \n",
    "                  sort_keys=True, \n",
    "                  indent=4) ### this saves the array in .json format"
   ]
  },
  {
   "cell_type": "code",
   "execution_count": 91,
   "metadata": {},
   "outputs": [],
   "source": [
    "to_json(\"../MainProject/data/codes.json\", shares_lm['code'].unique().tolist())\n",
    "to_json(\"../MainProject/data/names.json\", shares_lm['name'].unique().tolist())"
   ]
  },
  {
   "cell_type": "markdown",
   "metadata": {},
   "source": [
    "# EDA"
   ]
  },
  {
   "cell_type": "markdown",
   "metadata": {},
   "source": [
    "close min / max"
   ]
  },
  {
   "cell_type": "code",
   "execution_count": 105,
   "metadata": {},
   "outputs": [
    {
     "data": {
      "text/plain": [
       "code                       MSNG\n",
       "name                 +МосЭнерго\n",
       "datetime    2022-12-15 10:37:00\n",
       "close                     1.691\n",
       "vol                      364000\n",
       "Name: 54067, dtype: object"
      ]
     },
     "execution_count": 105,
     "metadata": {},
     "output_type": "execute_result"
    }
   ],
   "source": [
    "shares_lm.loc[shares_lm[shares_lm['code'] == 'MSNG']['close'].idxmin()]"
   ]
  },
  {
   "cell_type": "code",
   "execution_count": 106,
   "metadata": {},
   "outputs": [
    {
     "data": {
      "text/plain": [
       "code                       MSNG\n",
       "name                 +МосЭнерго\n",
       "datetime    2022-11-18 12:14:00\n",
       "close                     1.859\n",
       "vol                     1048000\n",
       "Name: 49326, dtype: object"
      ]
     },
     "execution_count": 106,
     "metadata": {},
     "output_type": "execute_result"
    }
   ],
   "source": [
    "shares_lm.loc[shares_lm[shares_lm['code'] == 'MSNG']['close'].idxmax()]"
   ]
  },
  {
   "cell_type": "code",
   "execution_count": 140,
   "metadata": {},
   "outputs": [
    {
     "data": {
      "text/plain": [
       "<AxesSubplot:xlabel='datetime'>"
      ]
     },
     "execution_count": 140,
     "metadata": {},
     "output_type": "execute_result"
    },
    {
     "data": {
      "image/png": "[encoded data removed]",
      "text/plain": [
       "<Figure size 864x432 with 1 Axes>"
      ]
     },
     "metadata": {
      "needs_background": "light"
     },
     "output_type": "display_data"
    }
   ],
   "source": [
    "shares_lm[shares_lm['code'] == 'MSNG'][['datetime', 'close']].plot(x = 'datetime', figsize=(12, 6))"
   ]
  },
  {
   "cell_type": "code",
   "execution_count": null,
   "metadata": {},
   "outputs": [],
   "source": [
    "vol min / max"
   ]
  },
  {
   "cell_type": "code",
   "execution_count": 125,
   "metadata": {},
   "outputs": [
    {
     "data": {
      "text/plain": [
       "code                       MSNG\n",
       "name                 +МосЭнерго\n",
       "datetime    2022-11-14 10:24:00\n",
       "close                     1.814\n",
       "vol                        1000\n",
       "Name: 48252, dtype: object"
      ]
     },
     "execution_count": 125,
     "metadata": {},
     "output_type": "execute_result"
    }
   ],
   "source": [
    "shares_lm.loc[shares_lm[shares_lm['code'] == 'MSNG']['vol'].idxmin()]"
   ]
  },
  {
   "cell_type": "code",
   "execution_count": 126,
   "metadata": {},
   "outputs": [
    {
     "data": {
      "text/plain": [
       "code                       MSNG\n",
       "name                 +МосЭнерго\n",
       "datetime    2022-12-01 10:15:00\n",
       "close                     1.719\n",
       "vol                     3024000\n",
       "Name: 51741, dtype: object"
      ]
     },
     "execution_count": 126,
     "metadata": {},
     "output_type": "execute_result"
    }
   ],
   "source": [
    "shares_lm.loc[shares_lm[shares_lm['code'] == 'MSNG']['vol'].idxmax()]"
   ]
  },
  {
   "cell_type": "code",
   "execution_count": 150,
   "metadata": {},
   "outputs": [
    {
     "data": {
      "text/plain": [
       "<AxesSubplot:xlabel='datetime'>"
      ]
     },
     "execution_count": 150,
     "metadata": {},
     "output_type": "execute_result"
    },
    {
     "data": {
      "image/png": "[encoded data removed]",
      "text/plain": [
       "<Figure size 864x432 with 1 Axes>"
      ]
     },
     "metadata": {
      "needs_background": "light"
     },
     "output_type": "display_data"
    }
   ],
   "source": [
    "shares_lm[shares_lm['code'] == 'MSNG'][['datetime', 'vol']].plot(x = 'datetime', y = 'vol', figsize=(12, 6))"
   ]
  },
  {
   "cell_type": "code",
   "execution_count": 154,
   "metadata": {},
   "outputs": [
    {
     "data": {
      "text/plain": [
       "(3000.0, 23833.662388943732, 87787.9275821668)"
      ]
     },
     "execution_count": 154,
     "metadata": {},
     "output_type": "execute_result"
    }
   ],
   "source": [
    "shares_lm[shares_lm['code'] == 'MSNG']['vol'].median(), shares_lm[shares_lm['code'] == 'MSNG']['vol'].mean(), shares_lm[shares_lm['code'] == 'MSNG']['vol'].std()"
   ]
  },
  {
   "cell_type": "code",
   "execution_count": 159,
   "metadata": {},
   "outputs": [
    {
     "data": {
      "text/plain": [
       "code\n",
       "TRNFP    94300.00000\n",
       "VSMO     52060.00000\n",
       "KOGK     38800.00000\n",
       "PRMB     35000.00000\n",
       "LNZL     25880.00000\n",
       "            ...     \n",
       "VTBR         0.01768\n",
       "TGKA         0.00813\n",
       "TGKBP        0.00598\n",
       "TGKB         0.00360\n",
       "TGKN         0.00261\n",
       "Name: close, Length: 188, dtype: float32"
      ]
     },
     "execution_count": 159,
     "metadata": {},
     "output_type": "execute_result"
    }
   ],
   "source": [
    "shares_lm.groupby(['code'])['close'].max().sort_values(ascending=False)"
   ]
  },
  {
   "cell_type": "code",
   "execution_count": 160,
   "metadata": {},
   "outputs": [
    {
     "data": {
      "text/plain": [
       "<AxesSubplot:xlabel='datetime'>"
      ]
     },
     "execution_count": 160,
     "metadata": {},
     "output_type": "execute_result"
    },
    {
     "data": {
      "image/png": "[encoded data removed]",
      "text/plain": [
       "<Figure size 864x432 with 1 Axes>"
      ]
     },
     "metadata": {
      "needs_background": "light"
     },
     "output_type": "display_data"
    }
   ],
   "source": [
    "shares_lm[shares_lm['code'] == 'TRNFP'][['datetime', 'close']].plot(x = 'datetime', figsize=(12, 6))"
   ]
  },
  {
   "cell_type": "code",
   "execution_count": 161,
   "metadata": {},
   "outputs": [
    {
     "data": {
      "text/plain": [
       "<AxesSubplot:xlabel='datetime'>"
      ]
     },
     "execution_count": 161,
     "metadata": {},
     "output_type": "execute_result"
    },
    {
     "data": {
      "image/png": "[encoded data removed]",
      "text/plain": [
       "<Figure size 864x432 with 1 Axes>"
      ]
     },
     "metadata": {
      "needs_background": "light"
     },
     "output_type": "display_data"
    }
   ],
   "source": [
    "shares_lm[shares_lm['code'] == 'VSMO'][['datetime', 'close']].plot(x = 'datetime', figsize=(12, 6))"
   ]
  },
  {
   "cell_type": "code",
   "execution_count": 162,
   "metadata": {},
   "outputs": [
    {
     "data": {
      "text/plain": [
       "<AxesSubplot:xlabel='datetime'>"
      ]
     },
     "execution_count": 162,
     "metadata": {},
     "output_type": "execute_result"
    },
    {
     "data": {
      "image/png": "[encoded data removed]",
      "text/plain": [
       "<Figure size 864x432 with 1 Axes>"
      ]
     },
     "metadata": {
      "needs_background": "light"
     },
     "output_type": "display_data"
    }
   ],
   "source": [
    "shares_lm[shares_lm['code'] == 'KOGK'][['datetime', 'close']].plot(x = 'datetime', figsize=(12, 6))"
   ]
  },
  {
   "cell_type": "code",
   "execution_count": 163,
   "metadata": {},
   "outputs": [
    {
     "data": {
      "text/plain": [
       "<AxesSubplot:xlabel='datetime'>"
      ]
     },
     "execution_count": 163,
     "metadata": {},
     "output_type": "execute_result"
    },
    {
     "data": {
      "image/png": "[encoded data removed]",
      "text/plain": [
       "<Figure size 864x432 with 1 Axes>"
      ]
     },
     "metadata": {
      "needs_background": "light"
     },
     "output_type": "display_data"
    }
   ],
   "source": [
    "shares_lm[shares_lm['code'] == 'PRMB'][['datetime', 'close']].plot(x = 'datetime', figsize=(12, 6))"
   ]
  },
  {
   "cell_type": "code",
   "execution_count": 164,
   "metadata": {},
   "outputs": [
    {
     "data": {
      "text/plain": [
       "<AxesSubplot:xlabel='datetime'>"
      ]
     },
     "execution_count": 164,
     "metadata": {},
     "output_type": "execute_result"
    },
    {
     "data": {
      "image/png": "[encoded data removed]",
      "text/plain": [
       "<Figure size 864x432 with 1 Axes>"
      ]
     },
     "metadata": {
      "needs_background": "light"
     },
     "output_type": "display_data"
    }
   ],
   "source": [
    "shares_lm[shares_lm['code'] == 'LNZL'][['datetime', 'close']].plot(x = 'datetime', figsize=(12, 6))"
   ]
  },
  {
   "cell_type": "code",
   "execution_count": 216,
   "metadata": {},
   "outputs": [],
   "source": [
    "shares_12_12 = shares[(shares['datetime'] >= '2022-12-12 10:00:00') & (shares['datetime'] <= '2022-12-12 13:00:00')]\n",
    "shares_11_21 = shares[(shares['datetime'] >= '2022-11-21 10:00:00') & (shares['datetime'] <= '2022-11-21 13:00:00')]"
   ]
  },
  {
   "cell_type": "code",
   "execution_count": 217,
   "metadata": {
    "scrolled": true
   },
   "outputs": [
    {
     "data": {
      "text/html": [
       "<div>\n",
       "<style scoped>\n",
       "    .dataframe tbody tr th:only-of-type {\n",
       "        vertical-align: middle;\n",
       "    }\n",
       "\n",
       "    .dataframe tbody tr th {\n",
       "        vertical-align: top;\n",
       "    }\n",
       "\n",
       "    .dataframe thead th {\n",
       "        text-align: right;\n",
       "    }\n",
       "</style>\n",
       "<table border=\"1\" class=\"dataframe\">\n",
       "  <thead>\n",
       "    <tr style=\"text-align: right;\">\n",
       "      <th></th>\n",
       "      <th>name</th>\n",
       "      <th>datetime</th>\n",
       "      <th>close</th>\n",
       "      <th>vol</th>\n",
       "    </tr>\n",
       "    <tr>\n",
       "      <th>code</th>\n",
       "      <th></th>\n",
       "      <th></th>\n",
       "      <th></th>\n",
       "      <th></th>\n",
       "    </tr>\n",
       "  </thead>\n",
       "  <tbody>\n",
       "    <tr>\n",
       "      <th>ABRD</th>\n",
       "      <td>АбрауДюрсо</td>\n",
       "      <td>2022-11-21 10:01:00</td>\n",
       "      <td>180.500000</td>\n",
       "      <td>470</td>\n",
       "    </tr>\n",
       "    <tr>\n",
       "      <th>AFKS</th>\n",
       "      <td>Система ао</td>\n",
       "      <td>2022-11-21 10:00:00</td>\n",
       "      <td>12.708000</td>\n",
       "      <td>24700</td>\n",
       "    </tr>\n",
       "    <tr>\n",
       "      <th>AFLT</th>\n",
       "      <td>Аэрофлот</td>\n",
       "      <td>2022-11-21 10:00:00</td>\n",
       "      <td>24.959999</td>\n",
       "      <td>96960</td>\n",
       "    </tr>\n",
       "    <tr>\n",
       "      <th>AKRN</th>\n",
       "      <td>Акрон</td>\n",
       "      <td>2022-11-21 10:00:00</td>\n",
       "      <td>17688.000000</td>\n",
       "      <td>17</td>\n",
       "    </tr>\n",
       "    <tr>\n",
       "      <th>ALRS</th>\n",
       "      <td>АЛРОСА ао</td>\n",
       "      <td>2022-11-21 10:00:00</td>\n",
       "      <td>66.389999</td>\n",
       "      <td>19090</td>\n",
       "    </tr>\n",
       "    <tr>\n",
       "      <th>...</th>\n",
       "      <td>...</td>\n",
       "      <td>...</td>\n",
       "      <td>...</td>\n",
       "      <td>...</td>\n",
       "    </tr>\n",
       "    <tr>\n",
       "      <th>YAKG</th>\n",
       "      <td>ЯТЭК ао</td>\n",
       "      <td>2022-11-21 10:02:00</td>\n",
       "      <td>103.949997</td>\n",
       "      <td>10</td>\n",
       "    </tr>\n",
       "    <tr>\n",
       "      <th>YKEN</th>\n",
       "      <td>Якутскэнрг</td>\n",
       "      <td>2022-11-21 11:14:00</td>\n",
       "      <td>0.251000</td>\n",
       "      <td>40000</td>\n",
       "    </tr>\n",
       "    <tr>\n",
       "      <th>YKENP</th>\n",
       "      <td>Якутскэн-п</td>\n",
       "      <td>2022-11-21 10:47:00</td>\n",
       "      <td>0.255500</td>\n",
       "      <td>10000</td>\n",
       "    </tr>\n",
       "    <tr>\n",
       "      <th>YRSB</th>\n",
       "      <td>ТНСэнЯр</td>\n",
       "      <td>2022-11-21 11:25:00</td>\n",
       "      <td>172.000000</td>\n",
       "      <td>30</td>\n",
       "    </tr>\n",
       "    <tr>\n",
       "      <th>ZVEZ</th>\n",
       "      <td>ЗВЕЗДА ао</td>\n",
       "      <td>2022-11-21 10:07:00</td>\n",
       "      <td>3.750000</td>\n",
       "      <td>4000</td>\n",
       "    </tr>\n",
       "  </tbody>\n",
       "</table>\n",
       "<p>187 rows × 4 columns</p>\n",
       "</div>"
      ],
      "text/plain": [
       "             name            datetime         close    vol\n",
       "code                                                      \n",
       "ABRD   АбрауДюрсо 2022-11-21 10:01:00    180.500000    470\n",
       "AFKS   Система ао 2022-11-21 10:00:00     12.708000  24700\n",
       "AFLT     Аэрофлот 2022-11-21 10:00:00     24.959999  96960\n",
       "AKRN        Акрон 2022-11-21 10:00:00  17688.000000     17\n",
       "ALRS    АЛРОСА ао 2022-11-21 10:00:00     66.389999  19090\n",
       "...           ...                 ...           ...    ...\n",
       "YAKG      ЯТЭК ао 2022-11-21 10:02:00    103.949997     10\n",
       "YKEN   Якутскэнрг 2022-11-21 11:14:00      0.251000  40000\n",
       "YKENP  Якутскэн-п 2022-11-21 10:47:00      0.255500  10000\n",
       "YRSB      ТНСэнЯр 2022-11-21 11:25:00    172.000000     30\n",
       "ZVEZ    ЗВЕЗДА ао 2022-11-21 10:07:00      3.750000   4000\n",
       "\n",
       "[187 rows x 4 columns]"
      ]
     },
     "execution_count": 217,
     "metadata": {},
     "output_type": "execute_result"
    }
   ],
   "source": [
    "shares_11_21.groupby(['code']).first()"
   ]
  },
  {
   "cell_type": "code",
   "execution_count": 218,
   "metadata": {},
   "outputs": [],
   "source": [
    "codes_11_21 = shares_11_21.groupby(['code']).first().index\n",
    "codes_12_12 = shares_12_12.groupby(['code']).first().index"
   ]
  },
  {
   "cell_type": "code",
   "execution_count": 219,
   "metadata": {},
   "outputs": [],
   "source": [
    "close_diff = shares_12_12.groupby(['code']).first().reindex(codes_11_21).dropna()['close'] - shares_11_21.groupby(['code']).first().reindex(codes_12_12).dropna()['close']"
   ]
  },
  {
   "cell_type": "code",
   "execution_count": 220,
   "metadata": {
    "scrolled": true
   },
   "outputs": [
    {
     "data": {
      "text/plain": [
       "code\n",
       "KOGK     1200.000000\n",
       "PLZL      861.000000\n",
       "PRMB      400.000000\n",
       "AKRN      378.000000\n",
       "URKZ      300.000000\n",
       "VJGZ      210.000000\n",
       "RKKE      140.000000\n",
       "PAZA      100.000000\n",
       "GMKN       96.000000\n",
       "VSYDP      80.000000\n",
       "GCHE       67.000000\n",
       "POLY       50.599976\n",
       "BELU       50.000000\n",
       "VJGZP      46.000000\n",
       "NNSB       40.000000\n",
       "SFIN       33.400024\n",
       "CHMF       27.000000\n",
       "VSYD       25.000000\n",
       "ELTZ       24.000000\n",
       "AQUA       19.500000\n",
       "Name: close, dtype: float32"
      ]
     },
     "execution_count": 220,
     "metadata": {},
     "output_type": "execute_result"
    }
   ],
   "source": [
    "close_diff.sort_values(ascending = False).head(20)"
   ]
  },
  {
   "cell_type": "code",
   "execution_count": 221,
   "metadata": {},
   "outputs": [
    {
     "data": {
      "text/plain": [
       "code\n",
       "RASP      -12.350006\n",
       "LSRG      -12.800018\n",
       "NKHP      -13.500000\n",
       "BRZL      -22.000000\n",
       "UKUZ      -24.000000\n",
       "PIKK      -24.299988\n",
       "NVTK      -41.000000\n",
       "PHOR      -47.000000\n",
       "CHMK      -60.000000\n",
       "LNZLP     -70.000000\n",
       "OMZZP     -70.000000\n",
       "AVAN     -150.000000\n",
       "CHKZ     -180.000000\n",
       "IGST     -340.000000\n",
       "MGNT     -446.500000\n",
       "IGSTP    -466.000000\n",
       "KRKNP    -580.000000\n",
       "VSMO    -1120.000000\n",
       "TRNFP   -3650.000000\n",
       "LNZL    -6290.000000\n",
       "Name: close, dtype: float32"
      ]
     },
     "execution_count": 221,
     "metadata": {},
     "output_type": "execute_result"
    }
   ],
   "source": [
    "close_diff.sort_values(ascending = False).tail(20)"
   ]
  },
  {
   "cell_type": "code",
   "execution_count": 225,
   "metadata": {},
   "outputs": [],
   "source": [
    "with open('./data/last_diff.json', 'w+') as f:\n",
    "    f.write(close_diff.to_json())"
   ]
  },
  {
   "cell_type": "code",
   "execution_count": 20,
   "metadata": {},
   "outputs": [],
   "source": [
    "shares = shares_lm"
   ]
  },
  {
   "cell_type": "code",
   "execution_count": 21,
   "metadata": {},
   "outputs": [],
   "source": [
    "def diff_data_range(start_date = '2022-11-21', end_date = '2022-12-12', field='close', return_pandas = True, save_json = True, json_path_dir = './data'):\n",
    "    shares_start = shares[(shares['datetime'] >= f'{start_date} 10:00:00') & (shares['datetime'] <= f'{start_date} 13:00:00')]\n",
    "    shares_end = shares[(shares['datetime'] >= f'{end_date} 10:00:00') & (shares['datetime'] <= f'{end_date} 13:00:00')]\n",
    "    \n",
    "    codes_start = shares_start.groupby(['code']).first().index\n",
    "    codes_end = shares_end.groupby(['code']).first().index\n",
    "    \n",
    "    close_diff = shares_end.groupby(['code']).first().reindex(codes_start).dropna()[field] - shares_start.groupby(['code']).first().reindex(codes_end).dropna()[field]\n",
    "    \n",
    "    res = close_diff.sort_values(ascending = False)\n",
    "    \n",
    "    if save_json:\n",
    "        path = f'{json_path_dir}/{start_date}_{end_date}_diff.json'\n",
    "        \n",
    "        with open(path, 'w+') as f:\n",
    "            f.write(res.to_json())\n",
    "\n",
    "    if return_pandas:\n",
    "        return res"
   ]
  },
  {
   "cell_type": "code",
   "execution_count": 230,
   "metadata": {
    "scrolled": false
   },
   "outputs": [
    {
     "data": {
      "text/plain": [
       "code\n",
       "VSMO     1280.0\n",
       "LNZL      880.0\n",
       "GMKN      492.0\n",
       "AKRN      142.0\n",
       "VSYDP      40.0\n",
       "          ...  \n",
       "PLZL     -163.5\n",
       "MGNT     -202.0\n",
       "KRKNP    -280.0\n",
       "KOGK     -600.0\n",
       "TRNFP   -1250.0\n",
       "Name: close, Length: 180, dtype: float32"
      ]
     },
     "execution_count": 230,
     "metadata": {},
     "output_type": "execute_result"
    }
   ],
   "source": [
    "diff_data_range(start_date = '2022-12-05', end_date = '2022-12-12')"
   ]
  },
  {
   "cell_type": "code",
   "execution_count": 33,
   "metadata": {},
   "outputs": [],
   "source": []
  },
  {
   "cell_type": "code",
   "execution_count": 59,
   "metadata": {},
   "outputs": [
    {
     "data": {
      "text/plain": [
       "'{\"shares\": {\"VSMO\": [47520, 1280], \"LNZL\": [14370, 880], \"GMKN\": [14282, 492], \"AKRN\": [17998, 142], \"VSYDP\": [4480, 40], \"PLZL\": [7463, -163], \"MGNT\": [4382, -202], \"KRKNP\": [10160, -280], \"KOGK\": [33800, -600], \"TRNFP\": [84050, -1250]}}'"
      ]
     },
     "execution_count": 59,
     "metadata": {},
     "output_type": "execute_result"
    }
   ],
   "source": [
    "import json\n",
    "\n",
    "top_5_last_week = diff_data_range(start_date = '2022-12-05', end_date = '2022-12-12').head(5)\n",
    "low_5_last_week = diff_data_range(start_date = '2022-12-05', end_date = '2022-12-12').tail(5)\n",
    "\n",
    "last_week_dict = {}\n",
    "\n",
    "for i, items in pd.concat([top_5_last_week, low_5_last_week]).iteritems():\n",
    "    last_week_dict.update({i: [int(shares_lm[shares_lm['code'] == i].tail(1)['close'].values[0]), int(items)]})\n",
    "last_week_dict = {'shares': last_week_dict}\n",
    "json.dumps(last_week_dict)"
   ]
  },
  {
   "cell_type": "code",
   "execution_count": null,
   "metadata": {},
   "outputs": [],
   "source": [
    "# current price\n",
    "shares_lm[shares_lm['code'] == 'KOGK'].tail(1)"
   ]
  },
  {
   "cell_type": "code",
   "execution_count": null,
   "metadata": {},
   "outputs": [],
   "source": []
  },
  {
   "cell_type": "code",
   "execution_count": 231,
   "metadata": {},
   "outputs": [
    {
     "data": {
      "text/plain": [
       "code\n",
       "LNZL     1800.0\n",
       "GMKN      490.0\n",
       "PLZL      437.5\n",
       "URKZ      260.0\n",
       "AKRN      230.0\n",
       "          ...  \n",
       "CHKZ     -240.0\n",
       "PAZA     -340.0\n",
       "MGNT     -365.0\n",
       "KRKNP    -420.0\n",
       "TRNFP   -1100.0\n",
       "Name: close, Length: 181, dtype: float32"
      ]
     },
     "execution_count": 231,
     "metadata": {},
     "output_type": "execute_result"
    }
   ],
   "source": [
    "diff_data_range(start_date = '2022-11-28', end_date = '2022-12-12')"
   ]
  },
  {
   "cell_type": "code",
   "execution_count": 45,
   "metadata": {},
   "outputs": [],
   "source": [
    "res2 = diff_data_range(start_date = '2022-12-05', end_date = '2022-12-12')"
   ]
  },
  {
   "cell_type": "code",
   "execution_count": 32,
   "metadata": {},
   "outputs": [],
   "source": [
    "res1 = diff_data_range(start_date = '2022-12-13', end_date = '2022-12-14')"
   ]
  },
  {
   "cell_type": "code",
   "execution_count": 44,
   "metadata": {},
   "outputs": [
    {
     "data": {
      "text/plain": [
       "-1250.0"
      ]
     },
     "execution_count": 44,
     "metadata": {},
     "output_type": "execute_result"
    }
   ],
   "source": [
    "res1['TRNFP']"
   ]
  },
  {
   "cell_type": "code",
   "execution_count": 49,
   "metadata": {},
   "outputs": [
    {
     "data": {
      "text/html": [
       "<div>\n",
       "<style scoped>\n",
       "    .dataframe tbody tr th:only-of-type {\n",
       "        vertical-align: middle;\n",
       "    }\n",
       "\n",
       "    .dataframe tbody tr th {\n",
       "        vertical-align: top;\n",
       "    }\n",
       "\n",
       "    .dataframe thead th {\n",
       "        text-align: right;\n",
       "    }\n",
       "</style>\n",
       "<table border=\"1\" class=\"dataframe\">\n",
       "  <thead>\n",
       "    <tr style=\"text-align: right;\">\n",
       "      <th></th>\n",
       "      <th>code</th>\n",
       "      <th>name</th>\n",
       "      <th>datetime</th>\n",
       "      <th>close</th>\n",
       "      <th>vol</th>\n",
       "    </tr>\n",
       "  </thead>\n",
       "  <tbody>\n",
       "    <tr>\n",
       "      <th>458208</th>\n",
       "      <td>KOGK</td>\n",
       "      <td>КоршГОК ао</td>\n",
       "      <td>2022-12-15 18:00:00</td>\n",
       "      <td>33800.0</td>\n",
       "      <td>1</td>\n",
       "    </tr>\n",
       "  </tbody>\n",
       "</table>\n",
       "</div>"
      ],
      "text/plain": [
       "        code        name             datetime    close  vol\n",
       "458208  KOGK  КоршГОК ао  2022-12-15 18:00:00  33800.0    1"
      ]
     },
     "execution_count": 49,
     "metadata": {},
     "output_type": "execute_result"
    }
   ],
   "source": [
    "shares_lm[shares_lm['code'] == 'KOGK'].tail(1)"
   ]
  },
  {
   "cell_type": "code",
   "execution_count": 46,
   "metadata": {},
   "outputs": [
    {
     "data": {
      "text/plain": [
       "40.0"
      ]
     },
     "execution_count": 46,
     "metadata": {},
     "output_type": "execute_result"
    }
   ],
   "source": [
    "res2['KOGK']"
   ]
  },
  {
   "cell_type": "code",
   "execution_count": 14,
   "metadata": {},
   "outputs": [],
   "source": [
    "from datetime import datetime, timedelta\n",
    "\n",
    "def get_end_date():\n",
    "    today = datetime.today()\n",
    "    end_date = today - timedelta(days=3)\n",
    "    return end_date.strftime('%Y-%m-%d')\n",
    "\n",
    "\n",
    "def get_start_date(minus_days=7):  # 14 # 21 # 27\n",
    "    today = datetime.today()\n",
    "    end_date = today - timedelta(days=3)\n",
    "    start_date = end_date - timedelta(days=minus_days)\n",
    "    return start_date.strftime('%Y-%m-%d')\n"
   ]
  },
  {
   "cell_type": "code",
   "execution_count": 15,
   "metadata": {},
   "outputs": [
    {
     "data": {
      "text/plain": [
       "'2022-12-07'"
      ]
     },
     "execution_count": 15,
     "metadata": {},
     "output_type": "execute_result"
    }
   ],
   "source": [
    "get_start_date()"
   ]
  },
  {
   "cell_type": "code",
   "execution_count": 31,
   "metadata": {},
   "outputs": [
    {
     "data": {
      "text/plain": [
       "['LNZL',\n",
       " 'PLZL',\n",
       " 'KOGK',\n",
       " 'CHKZ',\n",
       " 'MGNT',\n",
       " 'VJGZ',\n",
       " 'UCSS',\n",
       " 'UKUZ',\n",
       " 'CHMF',\n",
       " 'MGTSP',\n",
       " 'OMZZP',\n",
       " 'VJGZP',\n",
       " 'AVAN',\n",
       " 'PHOR',\n",
       " 'MFGSP']"
      ]
     },
     "execution_count": 31,
     "metadata": {},
     "output_type": "execute_result"
    }
   ],
   "source": []
  },
  {
   "cell_type": "code",
   "execution_count": null,
   "metadata": {},
   "outputs": [],
   "source": []
  }
 ],
 "metadata": {
  "kernelspec": {
   "display_name": "Python 3",
   "language": "python",
   "name": "python3"
  },
  "language_info": {
   "codemirror_mode": {
    "name": "ipython",
    "version": 3
   },
   "file_extension": ".py",
   "mimetype": "text/x-python",
   "name": "python",
   "nbconvert_exporter": "python",
   "pygments_lexer": "ipython3",
   "version": "3.6.8"
  }
 },
 "nbformat": 4,
 "nbformat_minor": 2
}
